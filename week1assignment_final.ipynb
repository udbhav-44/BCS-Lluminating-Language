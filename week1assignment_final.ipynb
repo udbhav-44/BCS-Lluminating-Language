{
 "cells": [
  {
   "cell_type": "code",
   "execution_count": 1,
   "id": "36145735-a90f-4e60-b2a7-7f3bb6185c6c",
   "metadata": {},
   "outputs": [],
   "source": [
    "import pandas as pd\n",
    "import numpy as np\n",
    "import matplotlib.pyplot as plt\n",
    "import seaborn as sns\n",
    "import string\n",
    "import re"
   ]
  },
  {
   "cell_type": "code",
   "execution_count": 2,
   "id": "18bb93c2-9247-48ff-bd00-da79c0b3c22d",
   "metadata": {},
   "outputs": [],
   "source": [
    "movie  = pd.read_csv(\"C:/Users/Acer/Downloads/movie.csv\")"
   ]
  },
  {
   "cell_type": "code",
   "execution_count": 3,
   "id": "563389e9-95bc-4d6f-b862-cd33b90a66cd",
   "metadata": {},
   "outputs": [
    {
     "data": {
      "text/html": [
       "<div>\n",
       "<style scoped>\n",
       "    .dataframe tbody tr th:only-of-type {\n",
       "        vertical-align: middle;\n",
       "    }\n",
       "\n",
       "    .dataframe tbody tr th {\n",
       "        vertical-align: top;\n",
       "    }\n",
       "\n",
       "    .dataframe thead th {\n",
       "        text-align: right;\n",
       "    }\n",
       "</style>\n",
       "<table border=\"1\" class=\"dataframe\">\n",
       "  <thead>\n",
       "    <tr style=\"text-align: right;\">\n",
       "      <th></th>\n",
       "      <th>text</th>\n",
       "      <th>label</th>\n",
       "    </tr>\n",
       "  </thead>\n",
       "  <tbody>\n",
       "    <tr>\n",
       "      <th>0</th>\n",
       "      <td>I grew up (b. 1965) watching and loving the Th...</td>\n",
       "      <td>0</td>\n",
       "    </tr>\n",
       "    <tr>\n",
       "      <th>1</th>\n",
       "      <td>When I put this movie in my DVD player, and sa...</td>\n",
       "      <td>0</td>\n",
       "    </tr>\n",
       "    <tr>\n",
       "      <th>2</th>\n",
       "      <td>Why do people who do not know what a particula...</td>\n",
       "      <td>0</td>\n",
       "    </tr>\n",
       "    <tr>\n",
       "      <th>3</th>\n",
       "      <td>Even though I have great interest in Biblical ...</td>\n",
       "      <td>0</td>\n",
       "    </tr>\n",
       "    <tr>\n",
       "      <th>4</th>\n",
       "      <td>Im a die hard Dads Army fan and nothing will e...</td>\n",
       "      <td>1</td>\n",
       "    </tr>\n",
       "  </tbody>\n",
       "</table>\n",
       "</div>"
      ],
      "text/plain": [
       "                                                text  label\n",
       "0  I grew up (b. 1965) watching and loving the Th...      0\n",
       "1  When I put this movie in my DVD player, and sa...      0\n",
       "2  Why do people who do not know what a particula...      0\n",
       "3  Even though I have great interest in Biblical ...      0\n",
       "4  Im a die hard Dads Army fan and nothing will e...      1"
      ]
     },
     "execution_count": 3,
     "metadata": {},
     "output_type": "execute_result"
    }
   ],
   "source": [
    "movie.head()"
   ]
  },
  {
   "cell_type": "code",
   "execution_count": 4,
   "id": "6bd1d9b9-3683-43c1-83c7-3d4d6a5e6384",
   "metadata": {},
   "outputs": [
    {
     "data": {
      "text/plain": [
       "(40000, 2)"
      ]
     },
     "execution_count": 4,
     "metadata": {},
     "output_type": "execute_result"
    }
   ],
   "source": [
    "movie.shape"
   ]
  },
  {
   "cell_type": "code",
   "execution_count": 5,
   "id": "53b295d3-ea6c-413a-a2fc-b3b3af91c7ea",
   "metadata": {},
   "outputs": [
    {
     "data": {
      "text/html": [
       "<div>\n",
       "<style scoped>\n",
       "    .dataframe tbody tr th:only-of-type {\n",
       "        vertical-align: middle;\n",
       "    }\n",
       "\n",
       "    .dataframe tbody tr th {\n",
       "        vertical-align: top;\n",
       "    }\n",
       "\n",
       "    .dataframe thead th {\n",
       "        text-align: right;\n",
       "    }\n",
       "</style>\n",
       "<table border=\"1\" class=\"dataframe\">\n",
       "  <thead>\n",
       "    <tr style=\"text-align: right;\">\n",
       "      <th></th>\n",
       "      <th>text</th>\n",
       "      <th>label</th>\n",
       "    </tr>\n",
       "  </thead>\n",
       "  <tbody>\n",
       "    <tr>\n",
       "      <th>39995</th>\n",
       "      <td>\"Western Union\" is something of a forgotten cl...</td>\n",
       "      <td>1</td>\n",
       "    </tr>\n",
       "    <tr>\n",
       "      <th>39996</th>\n",
       "      <td>This movie is an incredible piece of work. It ...</td>\n",
       "      <td>1</td>\n",
       "    </tr>\n",
       "    <tr>\n",
       "      <th>39997</th>\n",
       "      <td>My wife and I watched this movie because we pl...</td>\n",
       "      <td>0</td>\n",
       "    </tr>\n",
       "    <tr>\n",
       "      <th>39998</th>\n",
       "      <td>When I first watched Flatliners, I was amazed....</td>\n",
       "      <td>1</td>\n",
       "    </tr>\n",
       "    <tr>\n",
       "      <th>39999</th>\n",
       "      <td>Why would this film be so good, but only gross...</td>\n",
       "      <td>1</td>\n",
       "    </tr>\n",
       "  </tbody>\n",
       "</table>\n",
       "</div>"
      ],
      "text/plain": [
       "                                                    text  label\n",
       "39995  \"Western Union\" is something of a forgotten cl...      1\n",
       "39996  This movie is an incredible piece of work. It ...      1\n",
       "39997  My wife and I watched this movie because we pl...      0\n",
       "39998  When I first watched Flatliners, I was amazed....      1\n",
       "39999  Why would this film be so good, but only gross...      1"
      ]
     },
     "execution_count": 5,
     "metadata": {},
     "output_type": "execute_result"
    }
   ],
   "source": [
    "movie.tail()"
   ]
  },
  {
   "cell_type": "code",
   "execution_count": 6,
   "id": "4d888ff1-9cc0-4d9c-8e37-21775c3f37d9",
   "metadata": {},
   "outputs": [
    {
     "data": {
      "text/plain": [
       "<seaborn.axisgrid.PairGrid at 0x22718996d80>"
      ]
     },
     "execution_count": 6,
     "metadata": {},
     "output_type": "execute_result"
    },
    {
     "data": {
      "image/png": "[encoded data removed]",
      "text/plain": [
       "<Figure size 250x250 with 2 Axes>"
      ]
     },
     "metadata": {},
     "output_type": "display_data"
    }
   ],
   "source": [
    "sns.pairplot(movie)"
   ]
  },
  {
   "cell_type": "code",
   "execution_count": 7,
   "id": "f373feab-d17e-4406-a7db-bb4a6d19c921",
   "metadata": {},
   "outputs": [],
   "source": [
    "#doing eda "
   ]
  },
  {
   "cell_type": "code",
   "execution_count": 8,
   "id": "87d8f0ea-0105-48d4-8759-57d08c9c9af3",
   "metadata": {},
   "outputs": [
    {
     "data": {
      "text/plain": [
       "text     39723\n",
       "label        2\n",
       "dtype: int64"
      ]
     },
     "execution_count": 8,
     "metadata": {},
     "output_type": "execute_result"
    }
   ],
   "source": [
    "movie.nunique()"
   ]
  },
  {
   "cell_type": "code",
   "execution_count": 9,
   "id": "57c39de4-9ee8-4dbe-999a-85b286b901fd",
   "metadata": {},
   "outputs": [
    {
     "name": "stdout",
     "output_type": "stream",
     "text": [
      "0        False\n",
      "1        False\n",
      "2        False\n",
      "3        False\n",
      "4        False\n",
      "         ...  \n",
      "39995    False\n",
      "39996    False\n",
      "39997    False\n",
      "39998    False\n",
      "39999    False\n",
      "Length: 40000, dtype: bool\n"
     ]
    }
   ],
   "source": [
    "print(movie.duplicated())"
   ]
  },
  {
   "cell_type": "code",
   "execution_count": 10,
   "id": "777f48ee-664b-4ec6-9538-51f25b6d2693",
   "metadata": {},
   "outputs": [],
   "source": [
    "movie.drop_duplicates(inplace = True)"
   ]
  },
  {
   "cell_type": "code",
   "execution_count": 11,
   "id": "bc538a9d-e65c-42ee-b080-b7fb66e5ad27",
   "metadata": {},
   "outputs": [
    {
     "data": {
      "text/plain": [
       "(39723, 2)"
      ]
     },
     "execution_count": 11,
     "metadata": {},
     "output_type": "execute_result"
    }
   ],
   "source": [
    "movie.shape"
   ]
  },
  {
   "cell_type": "code",
   "execution_count": 12,
   "id": "4d80ce80-c0da-4104-bf54-47aeb4fceec5",
   "metadata": {},
   "outputs": [],
   "source": [
    "label_count = movie['label'].value_counts()"
   ]
  },
  {
   "cell_type": "code",
   "execution_count": 13,
   "id": "e95b2d99-f1af-4e1b-8a27-5f8cf8ecf81c",
   "metadata": {},
   "outputs": [
    {
     "name": "stdout",
     "output_type": "stream",
     "text": [
      "label\n",
      "1    19908\n",
      "0    19815\n",
      "Name: count, dtype: int64\n"
     ]
    }
   ],
   "source": [
    "print(label_count)"
   ]
  },
  {
   "cell_type": "code",
   "execution_count": 14,
   "id": "3b4f00ba-d500-4e51-81e3-4bd4551aaa3b",
   "metadata": {},
   "outputs": [
    {
     "name": "stdout",
     "output_type": "stream",
     "text": [
      "0         874\n",
      "1        1811\n",
      "2         983\n",
      "3         351\n",
      "4         983\n",
      "         ... \n",
      "39995    3111\n",
      "39996     291\n",
      "39997    1092\n",
      "39998    1045\n",
      "39999     727\n",
      "Name: rev_len, Length: 39723, dtype: int64\n"
     ]
    }
   ],
   "source": [
    "movie['rev_len'] = movie['text'].apply(len)\n",
    "print(movie['rev_len'])"
   ]
  },
  {
   "cell_type": "code",
   "execution_count": 15,
   "id": "caa584ea-af68-4885-836e-9724a011d8f0",
   "metadata": {},
   "outputs": [
    {
     "data": {
      "text/plain": [
       "<matplotlib.legend.Legend at 0x22779715a90>"
      ]
     },
     "execution_count": 15,
     "metadata": {},
     "output_type": "execute_result"
    },
    {
     "data": {
      "image/png": "[encoded data removed]",
      "text/plain": [
       "<Figure size 640x480 with 1 Axes>"
      ]
     },
     "metadata": {},
     "output_type": "display_data"
    }
   ],
   "source": [
    "#plotting the graph\n",
    "positive_reviews = movie[movie['label'] == 1]['rev_len']\n",
    "negative_reviews = movie[movie['label'] == 0]['rev_len']\n",
    "plt.hist(positive_reviews, bins=35, alpha=0.8, color='orange', label='Positive')\n",
    "plt.hist(negative_reviews, bins=35, alpha=0.5, color='skyblue', label='Negative')\n",
    "plt.xlabel(\"length of reviews\")\n",
    "plt.ylabel(\"frequnecy\")\n",
    "plt.legend(loc = 'upper right')"
   ]
  },
  {
   "cell_type": "code",
   "execution_count": 16,
   "id": "3f9d3f2e-f325-40ec-bc29-29ee30f4936d",
   "metadata": {},
   "outputs": [],
   "source": [
    "#Data preprocesing"
   ]
  },
  {
   "cell_type": "code",
   "execution_count": 17,
   "id": "b4216818-17de-44f7-bddc-befafe998d10",
   "metadata": {},
   "outputs": [],
   "source": [
    "#lowercasing the text\n",
    "movie['text'] = movie['text'].str.lower()"
   ]
  },
  {
   "cell_type": "code",
   "execution_count": 18,
   "id": "c52adc55-e64a-4aee-acf5-50ef5527037d",
   "metadata": {},
   "outputs": [],
   "source": [
    "#removing html tags and url\n",
    "\n",
    "def removal_html_tags(text):\n",
    "    pattern = re.compile('<.*?>')\n",
    "    return pattern.sub(r'',text)\n",
    "def removal_url(text):\n",
    "    pattern = re.compile(r'https?://\\S+|www\\.\\S+')\n",
    "    return pattern.sub(r'',text)"
   ]
  },
  {
   "cell_type": "code",
   "execution_count": 19,
   "id": "54a74273-0bec-4db9-b21e-3efbc56a264f",
   "metadata": {},
   "outputs": [],
   "source": [
    "movie['text']=movie['text'].apply(removal_html_tags)\n",
    "movie['text']=movie['text'].apply(removal_url)"
   ]
  },
  {
   "cell_type": "code",
   "execution_count": 20,
   "id": "72216b1c-489e-4fbd-a354-eff7e8be298a",
   "metadata": {},
   "outputs": [
    {
     "data": {
      "text/html": [
       "<div>\n",
       "<style scoped>\n",
       "    .dataframe tbody tr th:only-of-type {\n",
       "        vertical-align: middle;\n",
       "    }\n",
       "\n",
       "    .dataframe tbody tr th {\n",
       "        vertical-align: top;\n",
       "    }\n",
       "\n",
       "    .dataframe thead th {\n",
       "        text-align: right;\n",
       "    }\n",
       "</style>\n",
       "<table border=\"1\" class=\"dataframe\">\n",
       "  <thead>\n",
       "    <tr style=\"text-align: right;\">\n",
       "      <th></th>\n",
       "      <th>text</th>\n",
       "      <th>label</th>\n",
       "      <th>rev_len</th>\n",
       "    </tr>\n",
       "  </thead>\n",
       "  <tbody>\n",
       "    <tr>\n",
       "      <th>0</th>\n",
       "      <td>i grew up (b. 1965) watching and loving the th...</td>\n",
       "      <td>0</td>\n",
       "      <td>874</td>\n",
       "    </tr>\n",
       "    <tr>\n",
       "      <th>1</th>\n",
       "      <td>when i put this movie in my dvd player, and sa...</td>\n",
       "      <td>0</td>\n",
       "      <td>1811</td>\n",
       "    </tr>\n",
       "    <tr>\n",
       "      <th>2</th>\n",
       "      <td>why do people who do not know what a particula...</td>\n",
       "      <td>0</td>\n",
       "      <td>983</td>\n",
       "    </tr>\n",
       "    <tr>\n",
       "      <th>3</th>\n",
       "      <td>even though i have great interest in biblical ...</td>\n",
       "      <td>0</td>\n",
       "      <td>351</td>\n",
       "    </tr>\n",
       "    <tr>\n",
       "      <th>4</th>\n",
       "      <td>im a die hard dads army fan and nothing will e...</td>\n",
       "      <td>1</td>\n",
       "      <td>983</td>\n",
       "    </tr>\n",
       "  </tbody>\n",
       "</table>\n",
       "</div>"
      ],
      "text/plain": [
       "                                                text  label  rev_len\n",
       "0  i grew up (b. 1965) watching and loving the th...      0      874\n",
       "1  when i put this movie in my dvd player, and sa...      0     1811\n",
       "2  why do people who do not know what a particula...      0      983\n",
       "3  even though i have great interest in biblical ...      0      351\n",
       "4  im a die hard dads army fan and nothing will e...      1      983"
      ]
     },
     "execution_count": 20,
     "metadata": {},
     "output_type": "execute_result"
    }
   ],
   "source": [
    "movie.head()"
   ]
  },
  {
   "cell_type": "code",
   "execution_count": 21,
   "id": "2b84dcb7-128c-4784-8d1d-f7f29ac2ed10",
   "metadata": {},
   "outputs": [],
   "source": [
    "#removing punctuation\n",
    "def removal_punc(text):\n",
    "    return text.translate(str.maketrans('', '', string.punctuation))"
   ]
  },
  {
   "cell_type": "code",
   "execution_count": 22,
   "id": "45f05316-0132-41e2-a090-b3720217bcbd",
   "metadata": {},
   "outputs": [],
   "source": [
    "movie['text']=movie['text'].apply(removal_punc)"
   ]
  },
  {
   "cell_type": "code",
   "execution_count": 23,
   "id": "6c4c7671-1fe6-4005-b5f9-ee15cf08456a",
   "metadata": {},
   "outputs": [
    {
     "data": {
      "text/plain": [
       "'i love his martial arts style it is quick close up and oh so fast but it seems like his movies are becoming more and more crime based lifestyle quality and less meaningi thought he was out to bring forth a deeper message at least some of the movies had a hidden meaning or agenda this one had some good redeeming qualities of the character but the rest was so far off i was very disappointed the martial arts is also suffering i am hoping to see a more devoted segal in his future films this movie also lacks in keeping the story line going there are too many gaps so the thought is lost too many things are cryptic without a solution'"
      ]
     },
     "execution_count": 23,
     "metadata": {},
     "output_type": "execute_result"
    }
   ],
   "source": [
    "movie['text'][200]"
   ]
  },
  {
   "cell_type": "code",
   "execution_count": 24,
   "id": "6de9cb85-7e30-4cae-8805-066511728fcd",
   "metadata": {},
   "outputs": [],
   "source": [
    "#removing emojis"
   ]
  },
  {
   "cell_type": "code",
   "execution_count": 25,
   "id": "09d6f91c-5403-49e6-88a6-ccaa4fcc6c4f",
   "metadata": {},
   "outputs": [],
   "source": [
    "import re\n",
    "def remove_emojis(text):\n",
    "    emoji_pattern = re.compile(\"[\"\n",
    "                               u\"\\U0001F600-\\U0001F64F\"\n",
    "                               u\"\\U0001F300-\\U0001F5FF\"\n",
    "                               u\"\\U0001F680-\\U0001F6FF\"\n",
    "                               u\"\\U0001F1E0-\\U0001F1FF\"\n",
    "                               u\"\\U00002702-\\U000027B0\"\n",
    "                               u\"\\U000024C2-\\U0001F251\"\n",
    "                               \"]+\", flags = re.UNICODE)\n",
    "    return emoji_pattern.sub(r'', text)"
   ]
  },
  {
   "cell_type": "code",
   "execution_count": 26,
   "id": "f8ae39e8-4bb7-4bfa-8a13-f38886a34937",
   "metadata": {},
   "outputs": [
    {
     "data": {
      "text/html": [
       "<div>\n",
       "<style scoped>\n",
       "    .dataframe tbody tr th:only-of-type {\n",
       "        vertical-align: middle;\n",
       "    }\n",
       "\n",
       "    .dataframe tbody tr th {\n",
       "        vertical-align: top;\n",
       "    }\n",
       "\n",
       "    .dataframe thead th {\n",
       "        text-align: right;\n",
       "    }\n",
       "</style>\n",
       "<table border=\"1\" class=\"dataframe\">\n",
       "  <thead>\n",
       "    <tr style=\"text-align: right;\">\n",
       "      <th></th>\n",
       "      <th>text</th>\n",
       "      <th>label</th>\n",
       "      <th>rev_len</th>\n",
       "    </tr>\n",
       "  </thead>\n",
       "  <tbody>\n",
       "    <tr>\n",
       "      <th>0</th>\n",
       "      <td>i grew up b 1965 watching and loving the thund...</td>\n",
       "      <td>0</td>\n",
       "      <td>874</td>\n",
       "    </tr>\n",
       "    <tr>\n",
       "      <th>1</th>\n",
       "      <td>when i put this movie in my dvd player and sat...</td>\n",
       "      <td>0</td>\n",
       "      <td>1811</td>\n",
       "    </tr>\n",
       "    <tr>\n",
       "      <th>2</th>\n",
       "      <td>why do people who do not know what a particula...</td>\n",
       "      <td>0</td>\n",
       "      <td>983</td>\n",
       "    </tr>\n",
       "    <tr>\n",
       "      <th>3</th>\n",
       "      <td>even though i have great interest in biblical ...</td>\n",
       "      <td>0</td>\n",
       "      <td>351</td>\n",
       "    </tr>\n",
       "    <tr>\n",
       "      <th>4</th>\n",
       "      <td>im a die hard dads army fan and nothing will e...</td>\n",
       "      <td>1</td>\n",
       "      <td>983</td>\n",
       "    </tr>\n",
       "  </tbody>\n",
       "</table>\n",
       "</div>"
      ],
      "text/plain": [
       "                                                text  label  rev_len\n",
       "0  i grew up b 1965 watching and loving the thund...      0      874\n",
       "1  when i put this movie in my dvd player and sat...      0     1811\n",
       "2  why do people who do not know what a particula...      0      983\n",
       "3  even though i have great interest in biblical ...      0      351\n",
       "4  im a die hard dads army fan and nothing will e...      1      983"
      ]
     },
     "execution_count": 26,
     "metadata": {},
     "output_type": "execute_result"
    }
   ],
   "source": [
    "movie['text'] = movie['text'].apply(remove_emojis)\n",
    "movie.head()"
   ]
  },
  {
   "cell_type": "code",
   "execution_count": 27,
   "id": "5d1e2848-0111-4fa5-bd40-f75cf70450de",
   "metadata": {},
   "outputs": [],
   "source": [
    "#removing stopwords"
   ]
  },
  {
   "cell_type": "code",
   "execution_count": 28,
   "id": "0bbcfd46-a363-43fc-98f8-3a0421b384a3",
   "metadata": {},
   "outputs": [
    {
     "name": "stderr",
     "output_type": "stream",
     "text": [
      "[nltk_data] Downloading package stopwords to\n",
      "[nltk_data]     C:\\Users\\Acer\\AppData\\Roaming\\nltk_data...\n",
      "[nltk_data]   Package stopwords is already up-to-date!\n",
      "[nltk_data] Downloading package punkt to\n",
      "[nltk_data]     C:\\Users\\Acer\\AppData\\Roaming\\nltk_data...\n",
      "[nltk_data]   Package punkt is already up-to-date!\n"
     ]
    },
    {
     "data": {
      "text/plain": [
       "True"
      ]
     },
     "execution_count": 28,
     "metadata": {},
     "output_type": "execute_result"
    }
   ],
   "source": [
    "import nltk\n",
    "nltk.download('stopwords')\n",
    "nltk.download('punkt')"
   ]
  },
  {
   "cell_type": "code",
   "execution_count": 29,
   "id": "4e67a1ca-a790-4f6c-876a-b9c738ce7b73",
   "metadata": {},
   "outputs": [],
   "source": [
    "from nltk.corpus import stopwords"
   ]
  },
  {
   "cell_type": "code",
   "execution_count": 30,
   "id": "da8d61a9-9517-41c0-9461-79c5c7a5277b",
   "metadata": {},
   "outputs": [
    {
     "data": {
      "text/plain": [
       "['i',\n",
       " 'me',\n",
       " 'my',\n",
       " 'myself',\n",
       " 'we',\n",
       " 'our',\n",
       " 'ours',\n",
       " 'ourselves',\n",
       " 'you',\n",
       " \"you're\",\n",
       " \"you've\",\n",
       " \"you'll\",\n",
       " \"you'd\",\n",
       " 'your',\n",
       " 'yours',\n",
       " 'yourself',\n",
       " 'yourselves',\n",
       " 'he',\n",
       " 'him',\n",
       " 'his',\n",
       " 'himself',\n",
       " 'she',\n",
       " \"she's\",\n",
       " 'her',\n",
       " 'hers',\n",
       " 'herself',\n",
       " 'it',\n",
       " \"it's\",\n",
       " 'its',\n",
       " 'itself',\n",
       " 'they',\n",
       " 'them',\n",
       " 'their',\n",
       " 'theirs',\n",
       " 'themselves',\n",
       " 'what',\n",
       " 'which',\n",
       " 'who',\n",
       " 'whom',\n",
       " 'this',\n",
       " 'that',\n",
       " \"that'll\",\n",
       " 'these',\n",
       " 'those',\n",
       " 'am',\n",
       " 'is',\n",
       " 'are',\n",
       " 'was',\n",
       " 'were',\n",
       " 'be',\n",
       " 'been',\n",
       " 'being',\n",
       " 'have',\n",
       " 'has',\n",
       " 'had',\n",
       " 'having',\n",
       " 'do',\n",
       " 'does',\n",
       " 'did',\n",
       " 'doing',\n",
       " 'a',\n",
       " 'an',\n",
       " 'the',\n",
       " 'and',\n",
       " 'but',\n",
       " 'if',\n",
       " 'or',\n",
       " 'because',\n",
       " 'as',\n",
       " 'until',\n",
       " 'while',\n",
       " 'of',\n",
       " 'at',\n",
       " 'by',\n",
       " 'for',\n",
       " 'with',\n",
       " 'about',\n",
       " 'against',\n",
       " 'between',\n",
       " 'into',\n",
       " 'through',\n",
       " 'during',\n",
       " 'before',\n",
       " 'after',\n",
       " 'above',\n",
       " 'below',\n",
       " 'to',\n",
       " 'from',\n",
       " 'up',\n",
       " 'down',\n",
       " 'in',\n",
       " 'out',\n",
       " 'on',\n",
       " 'off',\n",
       " 'over',\n",
       " 'under',\n",
       " 'again',\n",
       " 'further',\n",
       " 'then',\n",
       " 'once',\n",
       " 'here',\n",
       " 'there',\n",
       " 'when',\n",
       " 'where',\n",
       " 'why',\n",
       " 'how',\n",
       " 'all',\n",
       " 'any',\n",
       " 'both',\n",
       " 'each',\n",
       " 'few',\n",
       " 'more',\n",
       " 'most',\n",
       " 'other',\n",
       " 'some',\n",
       " 'such',\n",
       " 'no',\n",
       " 'nor',\n",
       " 'not',\n",
       " 'only',\n",
       " 'own',\n",
       " 'same',\n",
       " 'so',\n",
       " 'than',\n",
       " 'too',\n",
       " 'very',\n",
       " 's',\n",
       " 't',\n",
       " 'can',\n",
       " 'will',\n",
       " 'just',\n",
       " 'don',\n",
       " \"don't\",\n",
       " 'should',\n",
       " \"should've\",\n",
       " 'now',\n",
       " 'd',\n",
       " 'll',\n",
       " 'm',\n",
       " 'o',\n",
       " 're',\n",
       " 've',\n",
       " 'y',\n",
       " 'ain',\n",
       " 'aren',\n",
       " \"aren't\",\n",
       " 'couldn',\n",
       " \"couldn't\",\n",
       " 'didn',\n",
       " \"didn't\",\n",
       " 'doesn',\n",
       " \"doesn't\",\n",
       " 'hadn',\n",
       " \"hadn't\",\n",
       " 'hasn',\n",
       " \"hasn't\",\n",
       " 'haven',\n",
       " \"haven't\",\n",
       " 'isn',\n",
       " \"isn't\",\n",
       " 'ma',\n",
       " 'mightn',\n",
       " \"mightn't\",\n",
       " 'mustn',\n",
       " \"mustn't\",\n",
       " 'needn',\n",
       " \"needn't\",\n",
       " 'shan',\n",
       " \"shan't\",\n",
       " 'shouldn',\n",
       " \"shouldn't\",\n",
       " 'wasn',\n",
       " \"wasn't\",\n",
       " 'weren',\n",
       " \"weren't\",\n",
       " 'won',\n",
       " \"won't\",\n",
       " 'wouldn',\n",
       " \"wouldn't\"]"
      ]
     },
     "execution_count": 30,
     "metadata": {},
     "output_type": "execute_result"
    }
   ],
   "source": [
    "stopwords.words('english')"
   ]
  },
  {
   "cell_type": "code",
   "execution_count": 31,
   "id": "78181026-4e8f-47f7-9117-aae2d12c42e7",
   "metadata": {},
   "outputs": [],
   "source": [
    "from nltk.tokenize import word_tokenize\n",
    "# Function to remove stopwords from a given text\n",
    "def remove_stopwords(text):\n",
    "    stop_words = set(stopwords.words('english'))\n",
    "    word_tokens = word_tokenize(text)\n",
    "    new_text = [word for word in word_tokens if word.lower() not in stop_words]\n",
    "    return ' '.join(new_text)\n"
   ]
  },
  {
   "cell_type": "code",
   "execution_count": 32,
   "id": "cb51ee2d-79f1-4da2-8852-73da71f7f392",
   "metadata": {},
   "outputs": [],
   "source": [
    "movie['text'] = movie['text'].apply(remove_stopwords)"
   ]
  },
  {
   "cell_type": "code",
   "execution_count": 33,
   "id": "0d4b2902-429d-4e95-ace8-19671501eff5",
   "metadata": {},
   "outputs": [
    {
     "data": {
      "text/html": [
       "<div>\n",
       "<style scoped>\n",
       "    .dataframe tbody tr th:only-of-type {\n",
       "        vertical-align: middle;\n",
       "    }\n",
       "\n",
       "    .dataframe tbody tr th {\n",
       "        vertical-align: top;\n",
       "    }\n",
       "\n",
       "    .dataframe thead th {\n",
       "        text-align: right;\n",
       "    }\n",
       "</style>\n",
       "<table border=\"1\" class=\"dataframe\">\n",
       "  <thead>\n",
       "    <tr style=\"text-align: right;\">\n",
       "      <th></th>\n",
       "      <th>text</th>\n",
       "      <th>label</th>\n",
       "      <th>rev_len</th>\n",
       "    </tr>\n",
       "  </thead>\n",
       "  <tbody>\n",
       "    <tr>\n",
       "      <th>0</th>\n",
       "      <td>grew b 1965 watching loving thunderbirds mates...</td>\n",
       "      <td>0</td>\n",
       "      <td>874</td>\n",
       "    </tr>\n",
       "    <tr>\n",
       "      <th>1</th>\n",
       "      <td>put movie dvd player sat coke chips expectatio...</td>\n",
       "      <td>0</td>\n",
       "      <td>1811</td>\n",
       "    </tr>\n",
       "    <tr>\n",
       "      <th>2</th>\n",
       "      <td>people know particular time past like feel nee...</td>\n",
       "      <td>0</td>\n",
       "      <td>983</td>\n",
       "    </tr>\n",
       "    <tr>\n",
       "      <th>3</th>\n",
       "      <td>even though great interest biblical movies bor...</td>\n",
       "      <td>0</td>\n",
       "      <td>351</td>\n",
       "    </tr>\n",
       "    <tr>\n",
       "      <th>4</th>\n",
       "      <td>im die hard dads army fan nothing ever change ...</td>\n",
       "      <td>1</td>\n",
       "      <td>983</td>\n",
       "    </tr>\n",
       "  </tbody>\n",
       "</table>\n",
       "</div>"
      ],
      "text/plain": [
       "                                                text  label  rev_len\n",
       "0  grew b 1965 watching loving thunderbirds mates...      0      874\n",
       "1  put movie dvd player sat coke chips expectatio...      0     1811\n",
       "2  people know particular time past like feel nee...      0      983\n",
       "3  even though great interest biblical movies bor...      0      351\n",
       "4  im die hard dads army fan nothing ever change ...      1      983"
      ]
     },
     "execution_count": 33,
     "metadata": {},
     "output_type": "execute_result"
    }
   ],
   "source": [
    "movie.head()"
   ]
  },
  {
   "cell_type": "code",
   "execution_count": 34,
   "id": "b36fca4b-8b1e-4c33-a1f4-edc0aa65058c",
   "metadata": {},
   "outputs": [
    {
     "data": {
      "text/html": [
       "<div>\n",
       "<style scoped>\n",
       "    .dataframe tbody tr th:only-of-type {\n",
       "        vertical-align: middle;\n",
       "    }\n",
       "\n",
       "    .dataframe tbody tr th {\n",
       "        vertical-align: top;\n",
       "    }\n",
       "\n",
       "    .dataframe thead th {\n",
       "        text-align: right;\n",
       "    }\n",
       "</style>\n",
       "<table border=\"1\" class=\"dataframe\">\n",
       "  <thead>\n",
       "    <tr style=\"text-align: right;\">\n",
       "      <th></th>\n",
       "      <th>text</th>\n",
       "      <th>label</th>\n",
       "      <th>rev_len</th>\n",
       "    </tr>\n",
       "  </thead>\n",
       "  <tbody>\n",
       "    <tr>\n",
       "      <th>0</th>\n",
       "      <td>grew b 1965 watching loving thunderbirds mates...</td>\n",
       "      <td>0</td>\n",
       "      <td>874</td>\n",
       "    </tr>\n",
       "    <tr>\n",
       "      <th>1</th>\n",
       "      <td>put movie dvd player sat coke chips expectatio...</td>\n",
       "      <td>0</td>\n",
       "      <td>1811</td>\n",
       "    </tr>\n",
       "    <tr>\n",
       "      <th>2</th>\n",
       "      <td>people know particular time past like feel nee...</td>\n",
       "      <td>0</td>\n",
       "      <td>983</td>\n",
       "    </tr>\n",
       "    <tr>\n",
       "      <th>3</th>\n",
       "      <td>even though great interest biblical movies bor...</td>\n",
       "      <td>0</td>\n",
       "      <td>351</td>\n",
       "    </tr>\n",
       "    <tr>\n",
       "      <th>4</th>\n",
       "      <td>im die hard dads army fan nothing ever change ...</td>\n",
       "      <td>1</td>\n",
       "      <td>983</td>\n",
       "    </tr>\n",
       "  </tbody>\n",
       "</table>\n",
       "</div>"
      ],
      "text/plain": [
       "                                                text  label  rev_len\n",
       "0  grew b 1965 watching loving thunderbirds mates...      0      874\n",
       "1  put movie dvd player sat coke chips expectatio...      0     1811\n",
       "2  people know particular time past like feel nee...      0      983\n",
       "3  even though great interest biblical movies bor...      0      351\n",
       "4  im die hard dads army fan nothing ever change ...      1      983"
      ]
     },
     "execution_count": 34,
     "metadata": {},
     "output_type": "execute_result"
    }
   ],
   "source": [
    "movie['text'][200]\n",
    "movie.head()"
   ]
  },
  {
   "cell_type": "code",
   "execution_count": 35,
   "id": "df728bcc-1278-4166-a326-407e27e2b840",
   "metadata": {},
   "outputs": [],
   "source": [
    "#Doing Stemming "
   ]
  },
  {
   "cell_type": "code",
   "execution_count": 36,
   "id": "2b9494e0-95f5-402d-8f04-609a46757f9e",
   "metadata": {},
   "outputs": [],
   "source": [
    "from nltk.stem.porter import PorterStemmer"
   ]
  },
  {
   "cell_type": "code",
   "execution_count": 37,
   "id": "2cf16665-c98c-4051-927d-9d61b406a6c0",
   "metadata": {},
   "outputs": [],
   "source": [
    "def stemming(text):\n",
    "    ps = PorterStemmer()\n",
    "    word_tokens = word_tokenize(text)\n",
    "    new_text= [ps.stem(word) for word in word_tokens]\n",
    "    return ' '.join(new_text)"
   ]
  },
  {
   "cell_type": "code",
   "execution_count": 38,
   "id": "3c1fa3f1-8eab-4a4c-a24a-6be1e25ec1d4",
   "metadata": {},
   "outputs": [],
   "source": [
    "movie['text'] = movie['text'].apply(stemming)"
   ]
  },
  {
   "cell_type": "markdown",
   "id": "629d8d43-68a3-4b9d-b60f-a7c070a67193",
   "metadata": {},
   "source": [
    "# Doing Lemmetization"
   ]
  },
  {
   "cell_type": "code",
   "execution_count": 39,
   "id": "728c858c-e444-4325-9687-7b58472dff8c",
   "metadata": {},
   "outputs": [
    {
     "name": "stderr",
     "output_type": "stream",
     "text": [
      "[nltk_data] Downloading package wordnet to\n",
      "[nltk_data]     C:\\Users\\Acer\\AppData\\Roaming\\nltk_data...\n",
      "[nltk_data]   Package wordnet is already up-to-date!\n"
     ]
    },
    {
     "data": {
      "text/plain": [
       "True"
      ]
     },
     "execution_count": 39,
     "metadata": {},
     "output_type": "execute_result"
    }
   ],
   "source": [
    "nltk.download('wordnet')"
   ]
  },
  {
   "cell_type": "code",
   "execution_count": 40,
   "id": "5f8e391c-f898-4557-9462-3d3b2ddd6683",
   "metadata": {},
   "outputs": [],
   "source": [
    "\n",
    "from nltk.stem import WordNetLemmatizer\n",
    "\n",
    "lemmatizer = WordNetLemmatizer()\n",
    "def lemmatize_text(text):\n",
    "    tokens = word_tokenize(text)\n",
    "    lemmatized_tokens = [lemmatizer.lemmatize(token) for token in tokens]\n",
    "    return ' '.join(lemmatized_tokens)\n",
    "\n",
    "\n"
   ]
  },
  {
   "cell_type": "code",
   "execution_count": 41,
   "id": "0010762a-b782-41a0-aaad-e3e62fb2a407",
   "metadata": {},
   "outputs": [],
   "source": [
    "movie['text'] = movie['text'].apply(lemmatize_text)"
   ]
  },
  {
   "cell_type": "code",
   "execution_count": 42,
   "id": "efc16903-59f4-46b8-8c21-6496aeeb1367",
   "metadata": {},
   "outputs": [
    {
     "data": {
      "text/html": [
       "<div>\n",
       "<style scoped>\n",
       "    .dataframe tbody tr th:only-of-type {\n",
       "        vertical-align: middle;\n",
       "    }\n",
       "\n",
       "    .dataframe tbody tr th {\n",
       "        vertical-align: top;\n",
       "    }\n",
       "\n",
       "    .dataframe thead th {\n",
       "        text-align: right;\n",
       "    }\n",
       "</style>\n",
       "<table border=\"1\" class=\"dataframe\">\n",
       "  <thead>\n",
       "    <tr style=\"text-align: right;\">\n",
       "      <th></th>\n",
       "      <th>text</th>\n",
       "      <th>label</th>\n",
       "      <th>rev_len</th>\n",
       "    </tr>\n",
       "  </thead>\n",
       "  <tbody>\n",
       "    <tr>\n",
       "      <th>0</th>\n",
       "      <td>grew b 1965 watch love thunderbird mate school...</td>\n",
       "      <td>0</td>\n",
       "      <td>874</td>\n",
       "    </tr>\n",
       "    <tr>\n",
       "      <th>1</th>\n",
       "      <td>put movi dvd player sat coke chip expect hope ...</td>\n",
       "      <td>0</td>\n",
       "      <td>1811</td>\n",
       "    </tr>\n",
       "    <tr>\n",
       "      <th>2</th>\n",
       "      <td>peopl know particular time past like feel need...</td>\n",
       "      <td>0</td>\n",
       "      <td>983</td>\n",
       "    </tr>\n",
       "    <tr>\n",
       "      <th>3</th>\n",
       "      <td>even though great interest biblic movi bore de...</td>\n",
       "      <td>0</td>\n",
       "      <td>351</td>\n",
       "    </tr>\n",
       "    <tr>\n",
       "      <th>4</th>\n",
       "      <td>im die hard dad armi fan noth ever chang got t...</td>\n",
       "      <td>1</td>\n",
       "      <td>983</td>\n",
       "    </tr>\n",
       "  </tbody>\n",
       "</table>\n",
       "</div>"
      ],
      "text/plain": [
       "                                                text  label  rev_len\n",
       "0  grew b 1965 watch love thunderbird mate school...      0      874\n",
       "1  put movi dvd player sat coke chip expect hope ...      0     1811\n",
       "2  peopl know particular time past like feel need...      0      983\n",
       "3  even though great interest biblic movi bore de...      0      351\n",
       "4  im die hard dad armi fan noth ever chang got t...      1      983"
      ]
     },
     "execution_count": 42,
     "metadata": {},
     "output_type": "execute_result"
    }
   ],
   "source": [
    "movie.head()"
   ]
  },
  {
   "cell_type": "code",
   "execution_count": 43,
   "id": "cd843f49-6849-4d06-842d-efd8b3f9fcad",
   "metadata": {},
   "outputs": [],
   "source": [
    "from nltk.tokenize import sent_tokenize,word_tokenize\n",
    "movie['text'] = movie['text'].apply(lambda x: word_tokenize(x))"
   ]
  },
  {
   "cell_type": "code",
   "execution_count": 44,
   "id": "3bd5255f-17d6-4b70-9cfb-f300f7fb892e",
   "metadata": {},
   "outputs": [
    {
     "data": {
      "text/html": [
       "<div>\n",
       "<style scoped>\n",
       "    .dataframe tbody tr th:only-of-type {\n",
       "        vertical-align: middle;\n",
       "    }\n",
       "\n",
       "    .dataframe tbody tr th {\n",
       "        vertical-align: top;\n",
       "    }\n",
       "\n",
       "    .dataframe thead th {\n",
       "        text-align: right;\n",
       "    }\n",
       "</style>\n",
       "<table border=\"1\" class=\"dataframe\">\n",
       "  <thead>\n",
       "    <tr style=\"text-align: right;\">\n",
       "      <th></th>\n",
       "      <th>text</th>\n",
       "      <th>label</th>\n",
       "      <th>rev_len</th>\n",
       "    </tr>\n",
       "  </thead>\n",
       "  <tbody>\n",
       "    <tr>\n",
       "      <th>0</th>\n",
       "      <td>[grew, b, 1965, watch, love, thunderbird, mate...</td>\n",
       "      <td>0</td>\n",
       "      <td>874</td>\n",
       "    </tr>\n",
       "    <tr>\n",
       "      <th>1</th>\n",
       "      <td>[put, movi, dvd, player, sat, coke, chip, expe...</td>\n",
       "      <td>0</td>\n",
       "      <td>1811</td>\n",
       "    </tr>\n",
       "    <tr>\n",
       "      <th>2</th>\n",
       "      <td>[peopl, know, particular, time, past, like, fe...</td>\n",
       "      <td>0</td>\n",
       "      <td>983</td>\n",
       "    </tr>\n",
       "    <tr>\n",
       "      <th>3</th>\n",
       "      <td>[even, though, great, interest, biblic, movi, ...</td>\n",
       "      <td>0</td>\n",
       "      <td>351</td>\n",
       "    </tr>\n",
       "    <tr>\n",
       "      <th>4</th>\n",
       "      <td>[im, die, hard, dad, armi, fan, noth, ever, ch...</td>\n",
       "      <td>1</td>\n",
       "      <td>983</td>\n",
       "    </tr>\n",
       "  </tbody>\n",
       "</table>\n",
       "</div>"
      ],
      "text/plain": [
       "                                                text  label  rev_len\n",
       "0  [grew, b, 1965, watch, love, thunderbird, mate...      0      874\n",
       "1  [put, movi, dvd, player, sat, coke, chip, expe...      0     1811\n",
       "2  [peopl, know, particular, time, past, like, fe...      0      983\n",
       "3  [even, though, great, interest, biblic, movi, ...      0      351\n",
       "4  [im, die, hard, dad, armi, fan, noth, ever, ch...      1      983"
      ]
     },
     "execution_count": 44,
     "metadata": {},
     "output_type": "execute_result"
    }
   ],
   "source": [
    "movie.head()"
   ]
  },
  {
   "cell_type": "markdown",
   "id": "6e9aac99-ac75-44b2-9015-510cf24e97c4",
   "metadata": {},
   "source": [
    "# Feature Extraction"
   ]
  },
  {
   "cell_type": "code",
   "execution_count": 45,
   "id": "841c4d50-72af-4db0-876e-40efea4d3816",
   "metadata": {},
   "outputs": [
    {
     "data": {
      "text/plain": [
       "'from sklearn.feature_extraction.text import CountVectorizer\\ncv = CountVectorizer(ngram_range=(1,3))'"
      ]
     },
     "execution_count": 45,
     "metadata": {},
     "output_type": "execute_result"
    }
   ],
   "source": [
    "#implementing bag of words\n",
    "\"\"\"from sklearn.feature_extraction.text import CountVectorizer\n",
    "cv = CountVectorizer(ngram_range=(1,3))\"\"\""
   ]
  },
  {
   "cell_type": "code",
   "execution_count": 46,
   "id": "c3dc4e5d-27fa-405b-94f0-864afb66d884",
   "metadata": {},
   "outputs": [
    {
     "data": {
      "text/plain": [
       "'print(len(cv.vocabulary_))'"
      ]
     },
     "execution_count": 46,
     "metadata": {},
     "output_type": "execute_result"
    }
   ],
   "source": [
    "\"\"\"bow = cv.fit_transform(movie['text'])\"\"\"\n",
    "\"\"\"using movie['text'] = cv.fit_transform(movie['text']) gives error as the dataset is too big hence n-gram bag of words is not a good method\n",
    "along with that one hot encoding is just a more worse version of this\"\"\"\n",
    "\"\"\"OHE can't handle semantic meanings at all whereas bag of words can give semantic relation but can give wrong semantic relation frequently\"\"\"\n",
    "\"\"\"print(len(cv.vocabulary_))\"\"\""
   ]
  },
  {
   "cell_type": "code",
   "execution_count": 47,
   "id": "e0fb4601-f8fa-4c61-8cde-058c7b15a1a2",
   "metadata": {},
   "outputs": [
    {
     "data": {
      "text/html": [
       "<div>\n",
       "<style scoped>\n",
       "    .dataframe tbody tr th:only-of-type {\n",
       "        vertical-align: middle;\n",
       "    }\n",
       "\n",
       "    .dataframe tbody tr th {\n",
       "        vertical-align: top;\n",
       "    }\n",
       "\n",
       "    .dataframe thead th {\n",
       "        text-align: right;\n",
       "    }\n",
       "</style>\n",
       "<table border=\"1\" class=\"dataframe\">\n",
       "  <thead>\n",
       "    <tr style=\"text-align: right;\">\n",
       "      <th></th>\n",
       "      <th>text</th>\n",
       "      <th>label</th>\n",
       "      <th>rev_len</th>\n",
       "    </tr>\n",
       "  </thead>\n",
       "  <tbody>\n",
       "    <tr>\n",
       "      <th>0</th>\n",
       "      <td>[grew, b, 1965, watch, love, thunderbird, mate...</td>\n",
       "      <td>0</td>\n",
       "      <td>874</td>\n",
       "    </tr>\n",
       "    <tr>\n",
       "      <th>1</th>\n",
       "      <td>[put, movi, dvd, player, sat, coke, chip, expe...</td>\n",
       "      <td>0</td>\n",
       "      <td>1811</td>\n",
       "    </tr>\n",
       "    <tr>\n",
       "      <th>2</th>\n",
       "      <td>[peopl, know, particular, time, past, like, fe...</td>\n",
       "      <td>0</td>\n",
       "      <td>983</td>\n",
       "    </tr>\n",
       "    <tr>\n",
       "      <th>3</th>\n",
       "      <td>[even, though, great, interest, biblic, movi, ...</td>\n",
       "      <td>0</td>\n",
       "      <td>351</td>\n",
       "    </tr>\n",
       "    <tr>\n",
       "      <th>4</th>\n",
       "      <td>[im, die, hard, dad, armi, fan, noth, ever, ch...</td>\n",
       "      <td>1</td>\n",
       "      <td>983</td>\n",
       "    </tr>\n",
       "  </tbody>\n",
       "</table>\n",
       "</div>"
      ],
      "text/plain": [
       "                                                text  label  rev_len\n",
       "0  [grew, b, 1965, watch, love, thunderbird, mate...      0      874\n",
       "1  [put, movi, dvd, player, sat, coke, chip, expe...      0     1811\n",
       "2  [peopl, know, particular, time, past, like, fe...      0      983\n",
       "3  [even, though, great, interest, biblic, movi, ...      0      351\n",
       "4  [im, die, hard, dad, armi, fan, noth, ever, ch...      1      983"
      ]
     },
     "execution_count": 47,
     "metadata": {},
     "output_type": "execute_result"
    }
   ],
   "source": [
    "movie.head()"
   ]
  },
  {
   "cell_type": "code",
   "execution_count": 48,
   "id": "d0f2e5ed-d5dc-43a9-a0a4-dd2e1a76f916",
   "metadata": {},
   "outputs": [
    {
     "data": {
      "text/plain": [
       "32"
      ]
     },
     "execution_count": 48,
     "metadata": {},
     "output_type": "execute_result"
    }
   ],
   "source": [
    "min(movie['rev_len'])"
   ]
  },
  {
   "cell_type": "code",
   "execution_count": 49,
   "id": "71867601-4bb2-40f2-913f-948c8ffbfbd3",
   "metadata": {},
   "outputs": [
    {
     "data": {
      "text/plain": [
       "\"cv=CountVectorizer()\\ncv_reviews=cv.fit_transform(movie['text'])\\nprint('BOW_cv_train:',cv_reviews.shape)\""
      ]
     },
     "execution_count": 49,
     "metadata": {},
     "output_type": "execute_result"
    }
   ],
   "source": [
    "#bag of words and count vectorizer\n",
    "\"\"\"cv=CountVectorizer()\n",
    "cv_reviews=cv.fit_transform(movie['text'])\n",
    "print('BOW_cv_train:',cv_reviews.shape)\"\"\""
   ]
  },
  {
   "cell_type": "code",
   "execution_count": 50,
   "id": "8c75a07d-d226-4375-b817-5c649a818b16",
   "metadata": {},
   "outputs": [],
   "source": [
    "x = movie.text\n",
    "y = movie.label "
   ]
  },
  {
   "cell_type": "code",
   "execution_count": 51,
   "id": "d2f177e3-9029-4ea3-aac7-6242a397d875",
   "metadata": {},
   "outputs": [],
   "source": [
    "from sklearn.model_selection import train_test_split\n",
    "X_train, X_test , y_train, y_test = train_test_split(x ,y , test_size = 0.2, random_state = 8211)"
   ]
  },
  {
   "cell_type": "code",
   "execution_count": 52,
   "id": "b79c1bee-8cc2-466b-a26e-590f0827c712",
   "metadata": {},
   "outputs": [
    {
     "data": {
      "text/plain": [
       "<31778x134255 sparse matrix of type '<class 'numpy.float64'>'\n",
       "\twith 3036354 stored elements in Compressed Sparse Row format>"
      ]
     },
     "execution_count": 52,
     "metadata": {},
     "output_type": "execute_result"
    }
   ],
   "source": [
    "#tf-idf\n",
    "from sklearn.feature_extraction.text import TfidfVectorizer\n",
    "tf_input = X_train.apply(lambda x: ' '.join(x) )\n",
    "tfidf=TfidfVectorizer()\n",
    "tfidf.fit_transform(tf_input)"
   ]
  },
  {
   "cell_type": "code",
   "execution_count": 53,
   "id": "139f5f78-2d98-480e-9f72-b80c6d5fd463",
   "metadata": {},
   "outputs": [
    {
     "name": "stdout",
     "output_type": "stream",
     "text": [
      "[ 8.9686657  10.26794868 10.67341379 ... 10.67341379 10.67341379\n",
      " 10.67341379]\n"
     ]
    }
   ],
   "source": [
    "print(tfidf.idf_)"
   ]
  },
  {
   "cell_type": "code",
   "execution_count": 54,
   "id": "567b1825-4a45-4ab2-83cb-f0e502dfaf66",
   "metadata": {},
   "outputs": [],
   "source": [
    "X_train_string = X_train.apply(lambda x: ' '.join(x) )\n",
    "X_test_string = X_test.apply(lambda x: ' '.join(x))\n",
    "X_train = tfidf.transform(X_train_string)\n",
    "X_test  = tfidf.transform(X_test_string)"
   ]
  },
  {
   "cell_type": "code",
   "execution_count": 55,
   "id": "43e83b4f-5629-40c8-a36d-ac95b9140c63",
   "metadata": {},
   "outputs": [
    {
     "data": {
      "text/plain": [
       "'df = pd.DataFrame(tv_reviews[0].T.todense(),\\n    \\tindex=tfidf.get_feature_names_out(), columns=[\"TF-IDF\"])\\ndf = df.sort_values(\\'TF-IDF\\', ascending=False)'"
      ]
     },
     "execution_count": 55,
     "metadata": {},
     "output_type": "execute_result"
    }
   ],
   "source": [
    "\"\"\"df = pd.DataFrame(tv_reviews[0].T.todense(),\n",
    "    \tindex=tfidf.get_feature_names_out(), columns=[\"TF-IDF\"])\n",
    "df = df.sort_values('TF-IDF', ascending=False)\"\"\""
   ]
  },
  {
   "cell_type": "code",
   "execution_count": 56,
   "id": "4a608b1c-fe26-4e85-99f9-8bb8e1791ecd",
   "metadata": {},
   "outputs": [],
   "source": [
    "#train-test-split\n"
   ]
  },
  {
   "cell_type": "code",
   "execution_count": 57,
   "id": "5a513d3c-807f-4adb-b7e1-05789e70e0ba",
   "metadata": {},
   "outputs": [
    {
     "data": {
      "text/plain": [
       "\"train_sentiments=movie['label'][:30000]\\ntest_sentiments=movie['label'][30000:]\\nprint(test_sentiments.shape)\""
      ]
     },
     "execution_count": 57,
     "metadata": {},
     "output_type": "execute_result"
    }
   ],
   "source": [
    "\"\"\"train_sentiments=movie['label'][:30000]\n",
    "test_sentiments=movie['label'][30000:]\n",
    "print(test_sentiments.shape)\"\"\""
   ]
  },
  {
   "cell_type": "code",
   "execution_count": 58,
   "id": "9d874b4b-8a22-4028-af0f-31e9db64ac84",
   "metadata": {},
   "outputs": [
    {
     "data": {
      "text/plain": [
       "'cv_train_reviews = cv_reviews[:30000]\\ncv_test_reviews = cv_reviews[30000:]\\nprint(cv_train_reviews.shape)'"
      ]
     },
     "execution_count": 58,
     "metadata": {},
     "output_type": "execute_result"
    }
   ],
   "source": [
    "\"\"\"cv_train_reviews = cv_reviews[:30000]\n",
    "cv_test_reviews = cv_reviews[30000:]\n",
    "print(cv_train_reviews.shape)\"\"\""
   ]
  },
  {
   "cell_type": "code",
   "execution_count": 59,
   "id": "47b6ddae-0311-48bb-913d-1e058d228539",
   "metadata": {},
   "outputs": [
    {
     "data": {
      "text/plain": [
       "'tf_train_reviews = tv_reviews[:30000]\\ntf_test_reviews = tv_reviews[30000:]\\nprint(tf_train_reviews.shape)'"
      ]
     },
     "execution_count": 59,
     "metadata": {},
     "output_type": "execute_result"
    }
   ],
   "source": [
    "\"\"\"tf_train_reviews = tv_reviews[:30000]\n",
    "tf_test_reviews = tv_reviews[30000:]\n",
    "print(tf_train_reviews.shape)\"\"\""
   ]
  },
  {
   "cell_type": "code",
   "execution_count": 60,
   "id": "2ba8e6c0-095c-4299-91df-740f67c8a5d8",
   "metadata": {},
   "outputs": [],
   "source": [
    "def cf_mat(y_pred):\n",
    "    cf_matrix = confusion_matrix(y_test, y_pred)\n",
    "    categories = ['Negative','Positive']\n",
    "    group_names = ['True Neg','False Pos', 'False Neg','True Pos']\n",
    "    group_percentages = ['{0:.2%}'.format(value) for value in cf_matrix.flatten() / np.sum(cf_matrix)]\n",
    "    labels = [f'{v1}{v2}' for v1, v2 in zip(group_names,group_percentages)]\n",
    "    labels = np.asarray(labels).reshape(2,2)\n",
    "    sns.heatmap(cf_matrix, annot = labels, cmap = 'Blues',fmt = '', xticklabels = categories, yticklabels = categories)\n",
    "    plt.xlabel(\"Predicted values\", fontdict = {'size':14}, labelpad = 10)\n",
    "    plt.ylabel(\"Actual values\" , fontdict = {'size':14}, labelpad = 10)\n",
    "    plt.title (\"Confusion Matrix\", fontdict = {'size':18}, pad = 20)\n"
   ]
  },
  {
   "cell_type": "code",
   "execution_count": 61,
   "id": "4650bbd0-5f18-446a-8b89-a7278153ad5c",
   "metadata": {},
   "outputs": [],
   "source": [
    "def roc_curve(y_pred):\n",
    "    from sklearn.metrics import roc_curve, auc\n",
    "    fpr, tpr, thresholds = roc_curve(y_test, y_pred)\n",
    "    roc_auc = auc(fpr, tpr)\n",
    "    plt.figure()\n",
    "    plt.plot(fpr, tpr, color='darkorange', lw=1, label='ROC curve (area = %0.2f)' % roc_auc)\n",
    "    plt.xlim([0.0, 1.0])\n",
    "    plt.ylim([0.0, 1.05])\n",
    "    plt.xlabel('False Positive Rate')\n",
    "    plt.ylabel('True Positive Rate')\n",
    "    plt.title('ROC CURVE')\n",
    "    plt.legend(loc=\"lower right\")\n",
    "    plt.show()\n"
   ]
  },
  {
   "cell_type": "code",
   "execution_count": 62,
   "id": "3848bfb4-609f-4e2b-a2bf-1c8d33bc0165",
   "metadata": {},
   "outputs": [],
   "source": [
    "#Modelling\n",
    "#Logistic Regression Model"
   ]
  },
  {
   "cell_type": "code",
   "execution_count": 63,
   "id": "f96e41b5-cbae-4f6a-94cc-6255897a544f",
   "metadata": {},
   "outputs": [],
   "source": [
    "from sklearn.linear_model import LogisticRegression "
   ]
  },
  {
   "cell_type": "code",
   "execution_count": 64,
   "id": "5af77fc0-bbeb-4309-a82b-bc4b4dd8e180",
   "metadata": {},
   "outputs": [],
   "source": [
    "model = LogisticRegression()"
   ]
  },
  {
   "cell_type": "code",
   "execution_count": 65,
   "id": "841b8795-dbfc-4a9a-8907-27e325c2fe6b",
   "metadata": {},
   "outputs": [],
   "source": [
    "\"\"\"log_reg_cv = model.fit(cv_train_reviews,train_sentiments)\"\"\"\n",
    "log_reg_tf = model.fit(X_train,y_train)"
   ]
  },
  {
   "cell_type": "code",
   "execution_count": 66,
   "id": "2e34f92f-7029-4318-9e95-1df558a6e0ac",
   "metadata": {},
   "outputs": [],
   "source": [
    "from sklearn.metrics import accuracy_score"
   ]
  },
  {
   "cell_type": "code",
   "execution_count": 67,
   "id": "71ad9e73-8bc3-458d-bea7-82a730f01d78",
   "metadata": {},
   "outputs": [
    {
     "name": "stdout",
     "output_type": "stream",
     "text": [
      "[0 1 1 ... 1 1 0]\n"
     ]
    }
   ],
   "source": [
    "\"\"\"logreg_bow_predict=model.predict(cv_test_reviews)\n",
    "print(logreg_bow_predict)\"\"\"\n",
    "logreg_tfidf_predict=model.predict(X_test)\n",
    "print(logreg_tfidf_predict)"
   ]
  },
  {
   "cell_type": "code",
   "execution_count": 68,
   "id": "7c4f66ab-20a9-4929-a73c-3f890f5989d7",
   "metadata": {},
   "outputs": [
    {
     "name": "stdout",
     "output_type": "stream",
     "text": [
      "lr_tfidf_score : 0.8868470736312146\n"
     ]
    }
   ],
   "source": [
    "\"\"\"logreg_bow_score=accuracy_score(test_sentiments,logreg_bow_predict)\n",
    "print(\"lr_bow_score :\",logreg_bow_score)\"\"\"\n",
    "\n",
    "logreg_tfidf_score=accuracy_score(y_test,logreg_tfidf_predict)\n",
    "print(\"lr_tfidf_score :\",logreg_tfidf_score)"
   ]
  },
  {
   "cell_type": "code",
   "execution_count": 69,
   "id": "8bfcad69-ebb1-4127-973c-42e25c80ea6b",
   "metadata": {},
   "outputs": [],
   "source": [
    "from sklearn.metrics import classification_report,confusion_matrix,roc_auc_score"
   ]
  },
  {
   "cell_type": "code",
   "execution_count": 70,
   "id": "c9ecde64-bc6d-4c6f-99db-15813f6a62b8",
   "metadata": {},
   "outputs": [
    {
     "name": "stdout",
     "output_type": "stream",
     "text": [
      "              precision    recall  f1-score   support\n",
      "\n",
      "    Positive       0.90      0.88      0.89      3968\n",
      "    Negative       0.88      0.90      0.89      3977\n",
      "\n",
      "    accuracy                           0.89      7945\n",
      "   macro avg       0.89      0.89      0.89      7945\n",
      "weighted avg       0.89      0.89      0.89      7945\n",
      "\n"
     ]
    }
   ],
   "source": [
    "\"\"\"lr_bow_report=classification_report(test_sentiments,logreg_bow_predict,target_names=['Positive','Negative'])\n",
    "print(lr_bow_report)\"\"\"\n",
    "\n",
    "lr_tfidf_report=classification_report(y_test,logreg_tfidf_predict,target_names=['Positive','Negative'])\n",
    "print(lr_tfidf_report)"
   ]
  },
  {
   "cell_type": "code",
   "execution_count": 71,
   "id": "3b66cfa6-a0ea-4a27-a9d6-a541199a2b12",
   "metadata": {},
   "outputs": [
    {
     "name": "stdout",
     "output_type": "stream",
     "text": [
      "[[3572  405]\n",
      " [ 494 3474]]\n"
     ]
    },
    {
     "data": {
      "image/png": "[encoded data removed]",
      "text/plain": [
       "<Figure size 640x480 with 2 Axes>"
      ]
     },
     "metadata": {},
     "output_type": "display_data"
    }
   ],
   "source": [
    "\"\"\"cm_logreg_bow=confusion_matrix(test_sentiments,logreg_bow_predict,labels=[1,0])\n",
    "print(cm_logreg_bow)\"\"\"\n",
    "cm_logreg_tfidf=confusion_matrix(y_test,logreg_tfidf_predict,labels=[1,0])\n",
    "print(cm_logreg_tfidf)\n",
    "cf_mat(logreg_tfidf_predict)"
   ]
  },
  {
   "cell_type": "code",
   "execution_count": 72,
   "id": "50f4b2ef-7046-4bda-aa2f-80814569bcae",
   "metadata": {},
   "outputs": [
    {
     "name": "stdout",
     "output_type": "stream",
     "text": [
      "0.9542191188040914\n"
     ]
    },
    {
     "data": {
      "image/png": "[encoded data removed]",
      "text/plain": [
       "<Figure size 640x480 with 1 Axes>"
      ]
     },
     "metadata": {},
     "output_type": "display_data"
    }
   ],
   "source": [
    "\"\"\"cv_prediction = model.predict_proba(cv_test_reviews)[:, 1]\n",
    "cv_auc_roc_score = roc_auc_score(test_sentiments,cv_prediction)\n",
    "print(cv_auc_roc_score)\"\"\"\n",
    "tf_prediction = model.predict_proba(X_test)[:, 1]\n",
    "tf_auc_roc_score = roc_auc_score(y_test,tf_prediction)\n",
    "print(tf_auc_roc_score)\n",
    "roc_curve(y_test)"
   ]
  },
  {
   "cell_type": "markdown",
   "id": "755f11f4-0e02-45c1-a79c-2fd4c7122e0d",
   "metadata": {},
   "source": [
    "# SVM model"
   ]
  },
  {
   "cell_type": "code",
   "execution_count": 73,
   "id": "77a25565-b1a2-4732-ab8d-c96987adffe8",
   "metadata": {},
   "outputs": [],
   "source": [
    "from sklearn.linear_model import SGDClassifier"
   ]
  },
  {
   "cell_type": "code",
   "execution_count": 74,
   "id": "a617b5d9-7ca0-45b0-89e5-70e887bc7f2b",
   "metadata": {},
   "outputs": [],
   "source": [
    "svm=SGDClassifier(max_iter=1000,random_state=48)\n",
    "\n",
    "\"\"\"svm_bow=svm.fit(cv_train_reviews,train_sentiments)\"\"\"\n",
    "\n",
    "\n",
    "svm_tfidf=svm.fit(X_train,y_train)\n"
   ]
  },
  {
   "cell_type": "code",
   "execution_count": 75,
   "id": "6fbc26a7-423e-4791-87b2-f6db75c3ec1a",
   "metadata": {},
   "outputs": [
    {
     "name": "stdout",
     "output_type": "stream",
     "text": [
      "[0 1 1 ... 1 1 0]\n"
     ]
    }
   ],
   "source": [
    "\"\"\"svm_bow_predict=svm.predict(cv_test_reviews)\n",
    "print(svm_bow_predict)\"\"\"\n",
    "\n",
    "svm_tfidf_predict=svm.predict(X_test)\n",
    "print(svm_tfidf_predict)"
   ]
  },
  {
   "cell_type": "code",
   "execution_count": 76,
   "id": "54c42dcf-62dd-4fa6-8003-9252fe6371f1",
   "metadata": {},
   "outputs": [
    {
     "name": "stdout",
     "output_type": "stream",
     "text": [
      "svm_tfidf_score : 0.8876022655758339\n"
     ]
    }
   ],
   "source": [
    "\"\"\"svm_bow_score=accuracy_score(test_sentiments,svm_bow_predict)\n",
    "print(\"svm_bow_score :\",svm_bow_score)\"\"\"\n",
    "svm_tfidf_score=accuracy_score(y_test,svm_tfidf_predict)\n",
    "print(\"svm_tfidf_score :\",svm_tfidf_score)"
   ]
  },
  {
   "cell_type": "code",
   "execution_count": 77,
   "id": "5812e877-7f9b-4d73-b12a-0908e2ff8caa",
   "metadata": {},
   "outputs": [
    {
     "name": "stdout",
     "output_type": "stream",
     "text": [
      "[[3595  382]\n",
      " [ 511 3457]]\n"
     ]
    },
    {
     "data": {
      "image/png": "[encoded data removed]",
      "text/plain": [
       "<Figure size 640x480 with 2 Axes>"
      ]
     },
     "metadata": {},
     "output_type": "display_data"
    }
   ],
   "source": [
    "\n",
    "\"\"\"cm_svm_bow=confusion_matrix(test_sentiments,svm_bow_predict,labels=[1,0])\n",
    "print(cm_svm_bow)\"\"\"\n",
    "\n",
    "cm_svm_tfidf=confusion_matrix(y_test,svm_tfidf_predict,labels=[1,0])\n",
    "print(cm_svm_tfidf)\n",
    "cf_mat(svm_tfidf_predict)"
   ]
  },
  {
   "cell_type": "code",
   "execution_count": 78,
   "id": "f034f01d-5f01-4fbd-82f3-0d3d5a758e05",
   "metadata": {},
   "outputs": [
    {
     "name": "stdout",
     "output_type": "stream",
     "text": [
      "              precision    recall  f1-score   support\n",
      "\n",
      "    Positive       0.90      0.87      0.89      3968\n",
      "    Negative       0.88      0.90      0.89      3977\n",
      "\n",
      "    accuracy                           0.89      7945\n",
      "   macro avg       0.89      0.89      0.89      7945\n",
      "weighted avg       0.89      0.89      0.89      7945\n",
      "\n"
     ]
    }
   ],
   "source": [
    "\"\"\"svm_bow_report=classification_report(test_sentiments,svm_bow_predict,target_names=['Positive','Negative'])\n",
    "print(svm_bow_report)\"\"\"\n",
    "svm_tfidf_report=classification_report(y_test,svm_tfidf_predict,target_names=['Positive','Negative'])\n",
    "print(svm_tfidf_report)"
   ]
  },
  {
   "cell_type": "code",
   "execution_count": 79,
   "id": "74416312-5a17-4644-8fef-79f21b242d55",
   "metadata": {},
   "outputs": [
    {
     "data": {
      "text/plain": [
       "'cv_svm_prediction = svm.predict_proba(cv_svm_test_reviews)[:, 1]\\ncv_svm_auc_roc_score = roc_auc_score(test_sentiments, cv_svm_prediction)\\nprint(\"CV AUC-ROC Score:\", cv_svm_auc_roc_score)\\n\\ntf_svm_prediction = svm.predict_proba(tf_svm_test_reviews)[:, 1]\\ntf_svm_auc_roc_score = roc_auc_score(test_sentiments, tf_svm_prediction)\\nprint(\"TF AUC-ROC Score:\", tf_svm_auc_roc_score)'"
      ]
     },
     "execution_count": 79,
     "metadata": {},
     "output_type": "execute_result"
    }
   ],
   "source": [
    "\"\"\"cv_svm_prediction = svm.predict_proba(cv_svm_test_reviews)[:, 1]\n",
    "cv_svm_auc_roc_score = roc_auc_score(test_sentiments, cv_svm_prediction)\n",
    "print(\"CV AUC-ROC Score:\", cv_svm_auc_roc_score)\n",
    "\n",
    "tf_svm_prediction = svm.predict_proba(tf_svm_test_reviews)[:, 1]\n",
    "tf_svm_auc_roc_score = roc_auc_score(test_sentiments, tf_svm_prediction)\n",
    "print(\"TF AUC-ROC Score:\", tf_svm_auc_roc_score)\"\"\"\n",
    "#it throws an error as it needs a probability score but as loss = hinge probability score is not possible"
   ]
  },
  {
   "cell_type": "code",
   "execution_count": 80,
   "id": "58852ff4-4e0b-46a0-88bf-542091cca526",
   "metadata": {},
   "outputs": [
    {
     "data": {
      "image/png": "[encoded data removed]",
      "text/plain": [
       "<Figure size 640x480 with 1 Axes>"
      ]
     },
     "metadata": {},
     "output_type": "display_data"
    }
   ],
   "source": [
    "roc_curve(svm_tfidf_predict)"
   ]
  },
  {
   "cell_type": "markdown",
   "id": "c6273220-4603-4a7b-9b44-39fd8b33022b",
   "metadata": {},
   "source": [
    "# Bernoulli Naive Bayes Model"
   ]
  },
  {
   "cell_type": "code",
   "execution_count": 81,
   "id": "f88a2297-d0eb-45d3-9247-2b9efb8d6dd0",
   "metadata": {},
   "outputs": [],
   "source": [
    "from sklearn.naive_bayes import BernoulliNB"
   ]
  },
  {
   "cell_type": "code",
   "execution_count": 82,
   "id": "32312d1e-46a1-4238-b043-9581c92c4771",
   "metadata": {},
   "outputs": [],
   "source": [
    "bnb = BernoulliNB()"
   ]
  },
  {
   "cell_type": "code",
   "execution_count": 83,
   "id": "972e0531-d36c-4c95-80db-2157d5dc58ae",
   "metadata": {},
   "outputs": [],
   "source": [
    "\"\"\"bnb_bow=bnb.fit(cv_train_reviews,train_sentiments)\"\"\"\n",
    "bnb_tfidf=bnb.fit(X_train,y_train)\n"
   ]
  },
  {
   "cell_type": "code",
   "execution_count": 84,
   "id": "9c247161-5451-4028-a727-9136f8af84a1",
   "metadata": {},
   "outputs": [
    {
     "name": "stdout",
     "output_type": "stream",
     "text": [
      "[0 1 1 ... 1 1 0]\n"
     ]
    }
   ],
   "source": [
    "\"\"\"bnb_bow_predict=bnb.predict(cv_test_reviews)\n",
    "print(bnb_bow_predict)\"\"\"\n",
    "\n",
    "bnb_tfidf_predict=bnb.predict(X_test)\n",
    "print(bnb_tfidf_predict)"
   ]
  },
  {
   "cell_type": "code",
   "execution_count": 85,
   "id": "bd837b06-1bc8-4835-8bde-537bb3bcfaf1",
   "metadata": {},
   "outputs": [
    {
     "name": "stdout",
     "output_type": "stream",
     "text": [
      "bnb_tfidf_score : 0.8490874764002517\n"
     ]
    }
   ],
   "source": [
    "\"\"\"bnb_bow_score=accuracy_score(test_sentiments,bnb_bow_predict)\n",
    "print(\"bnb_bow_score :\",bnb_bow_score)\"\"\"\n",
    "bnb_tfidf_score=accuracy_score(y_test,bnb_tfidf_predict)\n",
    "print(\"bnb_tfidf_score :\",bnb_tfidf_score)"
   ]
  },
  {
   "cell_type": "code",
   "execution_count": 86,
   "id": "b915aa07-7d6f-445a-9087-afde038576dc",
   "metadata": {},
   "outputs": [
    {
     "name": "stdout",
     "output_type": "stream",
     "text": [
      "[[3270  707]\n",
      " [ 492 3476]]\n"
     ]
    },
    {
     "data": {
      "image/png": "[encoded data removed]",
      "text/plain": [
       "<Figure size 640x480 with 2 Axes>"
      ]
     },
     "metadata": {},
     "output_type": "display_data"
    }
   ],
   "source": [
    "\"\"\"cm_bnb_bow=confusion_matrix(test_sentiments,bnb_bow_predict,labels=[1,0])\n",
    "print(cm_bnb_bow)\"\"\"\n",
    "\n",
    "cm_bnb_tfidf=confusion_matrix(y_test,bnb_tfidf_predict,labels=[1,0])\n",
    "print(cm_bnb_tfidf)\n",
    "cf_mat(bnb_tfidf_predict)"
   ]
  },
  {
   "cell_type": "code",
   "execution_count": 87,
   "id": "144eb864-f0e9-4758-aaf9-a6bf226c1c58",
   "metadata": {},
   "outputs": [
    {
     "name": "stdout",
     "output_type": "stream",
     "text": [
      "              precision    recall  f1-score   support\n",
      "\n",
      "    Positive       0.83      0.88      0.85      3968\n",
      "    Negative       0.87      0.82      0.85      3977\n",
      "\n",
      "    accuracy                           0.85      7945\n",
      "   macro avg       0.85      0.85      0.85      7945\n",
      "weighted avg       0.85      0.85      0.85      7945\n",
      "\n"
     ]
    }
   ],
   "source": [
    "\"\"\"bnb_bow_report=classification_report(test_sentiments,bnb_bow_predict,target_names=['Positive','Negative'])\n",
    "print(bnb_bow_report)\"\"\"\n",
    "bnb_tfidf_report=classification_report(y_test,bnb_tfidf_predict,target_names=['Positive','Negative'])\n",
    "print(bnb_tfidf_report)"
   ]
  },
  {
   "cell_type": "code",
   "execution_count": 88,
   "id": "c331c4c4-3681-428e-b53f-20d308636029",
   "metadata": {},
   "outputs": [
    {
     "name": "stdout",
     "output_type": "stream",
     "text": [
      "0.9227780947605992\n"
     ]
    },
    {
     "data": {
      "image/png": "[encoded data removed]",
      "text/plain": [
       "<Figure size 640x480 with 1 Axes>"
      ]
     },
     "metadata": {},
     "output_type": "display_data"
    }
   ],
   "source": [
    "\"\"\"cv_bnb_prediction = bnb.predict_proba(cv_test_reviews)[:, 1]\n",
    "cv_bnb_auc_roc_score = roc_auc_score(test_sentiments,cv_bnb_prediction)\n",
    "print(cv_bnb_auc_roc_score)\"\"\"\n",
    "tf_bnb_prediction = bnb.predict_proba(X_test)[:, 1]\n",
    "tf_bnb_auc_roc_score = roc_auc_score(y_test,tf_bnb_prediction)\n",
    "print(tf_bnb_auc_roc_score)\n",
    "roc_curve(bnb_tfidf_predict)"
   ]
  },
  {
   "cell_type": "markdown",
   "id": "c0e74e40-9a82-40b3-b925-e4a585c49645",
   "metadata": {},
   "source": [
    "# Random Forest Model"
   ]
  },
  {
   "cell_type": "code",
   "execution_count": 89,
   "id": "a0aca22a-ff78-4752-bea5-4ad8c88c2b03",
   "metadata": {},
   "outputs": [],
   "source": [
    "from sklearn.ensemble import RandomForestClassifier"
   ]
  },
  {
   "cell_type": "code",
   "execution_count": 90,
   "id": "2f334732-cc96-4063-9a08-57388799b28b",
   "metadata": {},
   "outputs": [],
   "source": [
    "max_depth = 10\n",
    "rf_classifier= RandomForestClassifier(max_depth= max_depth,random_state = 42)"
   ]
  },
  {
   "cell_type": "code",
   "execution_count": 91,
   "id": "d0e022fe-d9a1-4e33-af3a-9dcfd3526d0f",
   "metadata": {},
   "outputs": [],
   "source": [
    "\"\"\"rf_bow=rf_classifier.fit(cv_train_reviews,train_sentiments)\"\"\"\n",
    "\n",
    "\n",
    "rf_tfidf=rf_classifier.fit(X_train, y_train)"
   ]
  },
  {
   "cell_type": "code",
   "execution_count": 92,
   "id": "bf69e978-5324-4a26-adea-c0dc305dc79c",
   "metadata": {},
   "outputs": [
    {
     "name": "stdout",
     "output_type": "stream",
     "text": [
      "[0 1 1 ... 1 1 0]\n"
     ]
    }
   ],
   "source": [
    "\"\"\"rf_bow_predict=rf_classifier.predict(cv_test_reviews)\n",
    "print(rf_bow_predict)\"\"\"\n",
    "\n",
    "rf_tfidf_predict=rf_classifier.predict(X_test)\n",
    "print(rf_tfidf_predict)"
   ]
  },
  {
   "cell_type": "code",
   "execution_count": 93,
   "id": "2b0fbdee-2d73-4129-b27e-b550b60c814e",
   "metadata": {},
   "outputs": [
    {
     "name": "stdout",
     "output_type": "stream",
     "text": [
      "rf_tfidf_score : 0.8187539332913782\n"
     ]
    }
   ],
   "source": [
    "\"\"\"rf_bow_score=accuracy_score(test_sentiments,rf_bow_predict)\n",
    "print(\"rf_bow_score :\",rf_bow_score)\"\"\"\n",
    "rf_tfidf_score=accuracy_score(y_test,rf_tfidf_predict)\n",
    "print(\"rf_tfidf_score :\",rf_tfidf_score)"
   ]
  },
  {
   "cell_type": "code",
   "execution_count": 94,
   "id": "8b375e05-6101-412e-b572-802eb3e9d3b7",
   "metadata": {},
   "outputs": [
    {
     "name": "stdout",
     "output_type": "stream",
     "text": [
      "[[3343  634]\n",
      " [ 806 3162]]\n"
     ]
    },
    {
     "data": {
      "image/png": "[encoded data removed]",
      "text/plain": [
       "<Figure size 640x480 with 2 Axes>"
      ]
     },
     "metadata": {},
     "output_type": "display_data"
    }
   ],
   "source": [
    "\"\"\"cm_rf_bow=confusion_matrix(test_sentiments,rf_bow_predict,labels=[1,0])\n",
    "print(cm_rf_bow)\"\"\"\n",
    "\n",
    "cm_rf_tfidf=confusion_matrix(y_test,rf_tfidf_predict,labels=[1,0])\n",
    "print(cm_rf_tfidf)\n",
    "cf_mat(rf_tfidf_predict)"
   ]
  },
  {
   "cell_type": "code",
   "execution_count": 95,
   "id": "1ba515c6-8e1f-4dd8-89ce-ec0f0c1be221",
   "metadata": {},
   "outputs": [
    {
     "name": "stdout",
     "output_type": "stream",
     "text": [
      "              precision    recall  f1-score   support\n",
      "\n",
      "    Positive       0.83      0.80      0.81      3968\n",
      "    Negative       0.81      0.84      0.82      3977\n",
      "\n",
      "    accuracy                           0.82      7945\n",
      "   macro avg       0.82      0.82      0.82      7945\n",
      "weighted avg       0.82      0.82      0.82      7945\n",
      "\n"
     ]
    }
   ],
   "source": [
    "\"\"\"rf_bow_report=classification_report(test_sentiments,rf_bow_predict,target_names=['Positive','Negative'])\n",
    "print(rf_bow_report)\"\"\"\n",
    "rf_tfidf_report=classification_report(y_test,rf_tfidf_predict,target_names=['Positive','Negative'])\n",
    "print(rf_tfidf_report)"
   ]
  },
  {
   "cell_type": "code",
   "execution_count": 96,
   "id": "5a1bd2a5-06bd-4bfd-b698-e4c605ea5722",
   "metadata": {},
   "outputs": [
    {
     "name": "stdout",
     "output_type": "stream",
     "text": [
      "0.8965666113418286\n"
     ]
    },
    {
     "data": {
      "image/png": "[encoded data removed]",
      "text/plain": [
       "<Figure size 640x480 with 1 Axes>"
      ]
     },
     "metadata": {},
     "output_type": "display_data"
    }
   ],
   "source": [
    "\"\"\"cv_rf_prediction = rf_classifier.predict_proba(cv_test_reviews)[:, 1]\n",
    "cv_rf_auc_roc_score = roc_auc_score(test_sentiments,cv_rf_prediction)\n",
    "print(cv_rf_auc_roc_score)\"\"\"\n",
    "tf_rf_prediction = rf_classifier.predict_proba(X_test)[:, 1]\n",
    "tf_rf_auc_roc_score = roc_auc_score(y_test,tf_rf_prediction)\n",
    "print(tf_rf_auc_roc_score)\n",
    "roc_curve(rf_tfidf_predict)"
   ]
  },
  {
   "cell_type": "code",
   "execution_count": 97,
   "id": "85cf68e3",
   "metadata": {},
   "outputs": [],
   "source": [
    "import tensorflow as tf\n",
    "from keras.models import Sequential\n",
    "from keras.layers import Dense"
   ]
  },
  {
   "cell_type": "code",
   "execution_count": 106,
   "id": "c5f768f0",
   "metadata": {},
   "outputs": [
    {
     "name": "stdout",
     "output_type": "stream",
     "text": [
      "Epoch 1/10\n",
      "\u001b[1m994/994\u001b[0m \u001b[32m━━━━━━━━━━━━━━━━━━━━\u001b[0m\u001b[37m\u001b[0m \u001b[1m19s\u001b[0m 19ms/step - accuracy: 0.8275 - loss: 0.4728 - val_accuracy: 0.8928 - val_loss: 0.2542\n",
      "Epoch 2/10\n",
      "\u001b[1m994/994\u001b[0m \u001b[32m━━━━━━━━━━━━━━━━━━━━\u001b[0m\u001b[37m\u001b[0m \u001b[1m19s\u001b[0m 19ms/step - accuracy: 0.9551 - loss: 0.1353 - val_accuracy: 0.8936 - val_loss: 0.2634\n",
      "Epoch 3/10\n",
      "\u001b[1m994/994\u001b[0m \u001b[32m━━━━━━━━━━━━━━━━━━━━\u001b[0m\u001b[37m\u001b[0m \u001b[1m19s\u001b[0m 19ms/step - accuracy: 0.9855 - loss: 0.0618 - val_accuracy: 0.8856 - val_loss: 0.2958\n",
      "Epoch 4/10\n",
      "\u001b[1m994/994\u001b[0m \u001b[32m━━━━━━━━━━━━━━━━━━━━\u001b[0m\u001b[37m\u001b[0m \u001b[1m21s\u001b[0m 21ms/step - accuracy: 0.9954 - loss: 0.0279 - val_accuracy: 0.8799 - val_loss: 0.3353\n",
      "Epoch 5/10\n",
      "\u001b[1m994/994\u001b[0m \u001b[32m━━━━━━━━━━━━━━━━━━━━\u001b[0m\u001b[37m\u001b[0m \u001b[1m18s\u001b[0m 18ms/step - accuracy: 0.9986 - loss: 0.0133 - val_accuracy: 0.8779 - val_loss: 0.3767\n",
      "Epoch 6/10\n",
      "\u001b[1m994/994\u001b[0m \u001b[32m━━━━━━━━━━━━━━━━━━━━\u001b[0m\u001b[37m\u001b[0m \u001b[1m20s\u001b[0m 20ms/step - accuracy: 0.9993 - loss: 0.0060 - val_accuracy: 0.8770 - val_loss: 0.4178\n",
      "Epoch 7/10\n",
      "\u001b[1m994/994\u001b[0m \u001b[32m━━━━━━━━━━━━━━━━━━━━\u001b[0m\u001b[37m\u001b[0m \u001b[1m20s\u001b[0m 20ms/step - accuracy: 0.9996 - loss: 0.0029 - val_accuracy: 0.8740 - val_loss: 0.4534\n",
      "Epoch 8/10\n",
      "\u001b[1m994/994\u001b[0m \u001b[32m━━━━━━━━━━━━━━━━━━━━\u001b[0m\u001b[37m\u001b[0m \u001b[1m18s\u001b[0m 18ms/step - accuracy: 0.9999 - loss: 0.0014 - val_accuracy: 0.8728 - val_loss: 0.4912\n",
      "Epoch 9/10\n",
      "\u001b[1m994/994\u001b[0m \u001b[32m━━━━━━━━━━━━━━━━━━━━\u001b[0m\u001b[37m\u001b[0m \u001b[1m18s\u001b[0m 18ms/step - accuracy: 0.9997 - loss: 8.8257e-04 - val_accuracy: 0.8717 - val_loss: 0.5268\n",
      "Epoch 10/10\n",
      "\u001b[1m994/994\u001b[0m \u001b[32m━━━━━━━━━━━━━━━━━━━━\u001b[0m\u001b[37m\u001b[0m \u001b[1m18s\u001b[0m 18ms/step - accuracy: 0.9999 - loss: 5.2318e-04 - val_accuracy: 0.8706 - val_loss: 0.5622\n"
     ]
    },
    {
     "data": {
      "text/plain": [
       "<keras.src.callbacks.history.History at 0x227a6c36990>"
      ]
     },
     "execution_count": 106,
     "metadata": {},
     "output_type": "execute_result"
    }
   ],
   "source": [
    "model_neural = Sequential()\n",
    "model_neural.add(Dense(32, activation='relu'))\n",
    "model_neural.add(Dense(1, activation='sigmoid'))\n",
    "model_neural.compile(optimizer='adam', loss='binary_crossentropy', metrics=['accuracy'])\n",
    "#model_neural.fit(X_train,np.array(y_train),epochs=10, callbacks = tf.keras.callbacks.EarlyStopping(monitor='loss', patience=3))\n",
    "model_neural.fit(X_train, np.array(y_train), epochs=10, batch_size=32, validation_data=(X_test, np.array(y_test)))"
   ]
  },
  {
   "cell_type": "code",
   "execution_count": 107,
   "id": "7c694324",
   "metadata": {},
   "outputs": [
    {
     "name": "stdout",
     "output_type": "stream",
     "text": [
      "\u001b[1m249/249\u001b[0m \u001b[32m━━━━━━━━━━━━━━━━━━━━\u001b[0m\u001b[37m\u001b[0m \u001b[1m0s\u001b[0m 1ms/step\n"
     ]
    }
   ],
   "source": [
    "neural_pred = model_neural.predict(X_test)\n",
    "nn_pred = (neural_pred > 0.5).astype(\"int32\")"
   ]
  },
  {
   "cell_type": "code",
   "execution_count": 108,
   "id": "f3a00697",
   "metadata": {},
   "outputs": [
    {
     "name": "stdout",
     "output_type": "stream",
     "text": [
      "0.8706104468219006\n"
     ]
    }
   ],
   "source": [
    "print(accuracy_score(y_test, nn_pred))"
   ]
  },
  {
   "cell_type": "code",
   "execution_count": 109,
   "id": "f9c7bb7c",
   "metadata": {},
   "outputs": [
    {
     "name": "stdout",
     "output_type": "stream",
     "text": [
      "              precision    recall  f1-score   support\n",
      "\n",
      "           0       0.87      0.87      0.87      3968\n",
      "           1       0.87      0.87      0.87      3977\n",
      "\n",
      "    accuracy                           0.87      7945\n",
      "   macro avg       0.87      0.87      0.87      7945\n",
      "weighted avg       0.87      0.87      0.87      7945\n",
      "\n"
     ]
    }
   ],
   "source": [
    "print(classification_report(y_test, nn_pred))"
   ]
  },
  {
   "cell_type": "code",
   "execution_count": 110,
   "id": "91ff5cde",
   "metadata": {},
   "outputs": [
    {
     "name": "stdout",
     "output_type": "stream",
     "text": [
      "[[3477  500]\n",
      " [ 528 3440]]\n"
     ]
    },
    {
     "data": {
      "image/png": "[encoded data removed]",
      "text/plain": [
       "<Figure size 640x480 with 2 Axes>"
      ]
     },
     "metadata": {},
     "output_type": "display_data"
    }
   ],
   "source": [
    "cm_nn_tfidf=confusion_matrix(y_test,nn_pred,labels=[1,0])\n",
    "print(cm_nn_tfidf)\n",
    "cf_mat(nn_pred)"
   ]
  },
  {
   "cell_type": "code",
   "execution_count": 112,
   "id": "2cf608c9",
   "metadata": {},
   "outputs": [
    {
     "name": "stdout",
     "output_type": "stream",
     "text": [
      "0.8706062885786823\n"
     ]
    },
    {
     "data": {
      "image/png": "[encoded data removed]",
      "text/plain": [
       "<Figure size 640x480 with 1 Axes>"
      ]
     },
     "metadata": {},
     "output_type": "display_data"
    }
   ],
   "source": [
    "\n",
    "nn_auc_roc_score = roc_auc_score(y_test,nn_pred)\n",
    "print(nn_auc_roc_score)\n",
    "roc_curve(nn_pred)"
   ]
  },
  {
   "cell_type": "code",
   "execution_count": 100,
   "id": "7216be2a-8a6e-44c9-aa1b-1f5b104d7e36",
   "metadata": {},
   "outputs": [
    {
     "data": {
      "text/plain": [
       "'1.kaggle\\n2.youtube channel campusX\\n3.some articles on google\\n4.sklearn documentaion\\n5.gfg'"
      ]
     },
     "execution_count": 100,
     "metadata": {},
     "output_type": "execute_result"
    }
   ],
   "source": [
    "#refrences\n",
    "\"\"\"1.kaggle\n",
    "2.youtube channel campusX\n",
    "3.some articles on google\n",
    "4.sklearn documentaion\n",
    "5.gfg\"\"\""
   ]
  },
  {
   "cell_type": "code",
   "execution_count": null,
   "id": "0732da87-e3b2-4354-8e2f-108ca982d5d0",
   "metadata": {},
   "outputs": [],
   "source": []
  }
 ],
 "metadata": {
  "kernelspec": {
   "display_name": "Python 3 (ipykernel)",
   "language": "python",
   "name": "python3"
  },
  "language_info": {
   "codemirror_mode": {
    "name": "ipython",
    "version": 3
   },
   "file_extension": ".py",
   "mimetype": "text/x-python",
   "name": "python",
   "nbconvert_exporter": "python",
   "pygments_lexer": "ipython3",
   "version": "3.12.3"
  }
 },
 "nbformat": 4,
 "nbformat_minor": 5
}
